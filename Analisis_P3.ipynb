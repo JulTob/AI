{
  "nbformat": 4,
  "nbformat_minor": 0,
  "metadata": {
    "colab": {
      "provenance": [],
      "authorship_tag": "ABX9TyMIX2EEMUGxM9F/FdkEmPW+",
      "include_colab_link": true
    },
    "kernelspec": {
      "name": "python3",
      "display_name": "Python 3"
    },
    "language_info": {
      "name": "python"
    }
  },
  "cells": [
    {
      "cell_type": "markdown",
      "metadata": {
        "id": "view-in-github",
        "colab_type": "text"
      },
      "source": [
        "<a href=\"https://colab.research.google.com/github/JulTob/AI/blob/master/Analisis_P3.ipynb\" target=\"_parent\"><img src=\"https://colab.research.google.com/assets/colab-badge.svg\" alt=\"Open In Colab\"/></a>"
      ]
    },
    {
      "cell_type": "code",
      "execution_count": 3,
      "metadata": {
        "id": "ebjnBoIveJhZ"
      },
      "outputs": [],
      "source": [
        "%load_ext rpy2.ipython"
      ]
    },
    {
      "cell_type": "code",
      "source": [
        "%%R\n",
        "R.version.string"
      ],
      "metadata": {
        "id": "7o7gsmYmfF5D",
        "colab": {
          "base_uri": "https://localhost:8080/",
          "height": 0
        },
        "outputId": "0cdfb49c-a949-4a56-e8b3-19c732ff5a32"
      },
      "execution_count": 4,
      "outputs": [
        {
          "output_type": "stream",
          "name": "stdout",
          "text": [
            "[1] \"R version 4.5.1 (2025-06-13)\"\n"
          ]
        }
      ]
    },
    {
      "cell_type": "markdown",
      "source": [
        "# Práctica 3"
      ],
      "metadata": {
        "id": "m4bNyvtGhHp9"
      }
    },
    {
      "cell_type": "code",
      "source": [
        "%%R\n",
        "library(ggplot2)\n",
        "library(readr)\n",
        "library(dplyr)"
      ],
      "metadata": {
        "colab": {
          "base_uri": "https://localhost:8080/",
          "height": 219
        },
        "collapsed": true,
        "id": "xJJhsQaxhKfJ",
        "outputId": "034d5bf8-dbad-4911-9098-b052e3d62882"
      },
      "execution_count": 5,
      "outputs": [
        {
          "output_type": "display_data",
          "data": {
            "text/plain": [
              "\n",
              "Attaching package: ‘dplyr’\n",
              "\n",
              "The following objects are masked from ‘package:stats’:\n",
              "\n",
              "    filter, lag\n",
              "\n",
              "The following objects are masked from ‘package:base’:\n",
              "\n",
              "    intersect, setdiff, setequal, union\n",
              "\n"
            ]
          },
          "metadata": {}
        }
      ]
    },
    {
      "cell_type": "markdown",
      "source": [
        "# Ejercicio 1"
      ],
      "metadata": {
        "id": "IDrp3Wo9hUn5"
      }
    },
    {
      "cell_type": "markdown",
      "source": [
        "### 1. Importar los datos\n",
        "Importamos la información del Directorio Central de Empresas (DIRCE) para la provincia de Alicante.\n",
        "\n",
        "ón del Directorio Central de Empresas (DIRCE) para la provincia de Alicante.\n",
        "\n",
        "Tipo empresa | Codigo | Frecuencia absoluta\n",
        "----| --- | ----\n",
        "Sociedad Anónima| SA| 2173\n",
        "Sociedad Responsabilidad Limitada| SRL| 49088\n",
        "Sociedad Colectiva| SCol| 15\n",
        "Sociedad Comandataria| SCom| 3\n",
        "Comunidad de Bienes| CB| 4783\n",
        "Sociedad Cooperativa| SCoop| 752\n",
        "Asociaciones y otros tipos| Asoc| 3081\n",
        "Organismo Autónomos y otros| OrgAut| 219\n",
        "Personas Físicas| PerF| 72092\n",
        "\n",
        "### Tipo de variable\n",
        "\n",
        "Variable Categórica Cualitativa Nominal: El tipo de empresa\n",
        "\n",
        "### Nivel de Medición\n",
        "\n",
        "Nivel de Medición Nominal\n",
        "\n",
        "### Tabla de Frecuencias"
      ],
      "metadata": {
        "id": "2oCDhf1jhYrj"
      }
    },
    {
      "cell_type": "markdown",
      "source": [],
      "metadata": {
        "id": "XmlIfkvehjYx"
      }
    },
    {
      "cell_type": "code",
      "source": [
        "%%R\n",
        "tipo_empresa <- c(\"SA\", \"SRL\", \"SCol\", \"SCom\", \"CB\", \"SCoop\", \"Asoc\", \"OrgAut\", \"PerF\")\n",
        "ni <- c(2173, 49088, 15, 3, 4783, 752, 3081, 219, 72092)\n",
        "\n",
        "datos <- data.frame(tipo_empresa, ni)\n",
        "datos"
      ],
      "metadata": {
        "colab": {
          "base_uri": "https://localhost:8080/",
          "height": 0
        },
        "id": "kq4JqDsqhVnw",
        "outputId": "cd395f4c-168e-4bb0-b7cc-a8fcd86e8956"
      },
      "execution_count": 6,
      "outputs": [
        {
          "output_type": "stream",
          "name": "stdout",
          "text": [
            "  tipo_empresa    ni\n",
            "1           SA  2173\n",
            "2          SRL 49088\n",
            "3         SCol    15\n",
            "4         SCom     3\n",
            "5           CB  4783\n",
            "6        SCoop   752\n",
            "7         Asoc  3081\n",
            "8       OrgAut   219\n",
            "9         PerF 72092\n"
          ]
        }
      ]
    },
    {
      "cell_type": "markdown",
      "source": [
        "Añadimos la frecuencia con cuatro decimales"
      ],
      "metadata": {
        "id": "310h5P1OiS2K"
      }
    },
    {
      "cell_type": "code",
      "source": [
        "%%R\n",
        "datos$fi <- round(datos$ni / sum(datos$ni), 4)\n",
        "datos"
      ],
      "metadata": {
        "colab": {
          "base_uri": "https://localhost:8080/",
          "height": 0
        },
        "id": "AFk-Q7lbiMJs",
        "outputId": "0313e22e-659c-4842-f1d8-8d455cb64b67"
      },
      "execution_count": 7,
      "outputs": [
        {
          "output_type": "stream",
          "name": "stdout",
          "text": [
            "  tipo_empresa    ni     fi\n",
            "1           SA  2173 0.0164\n",
            "2          SRL 49088 0.3713\n",
            "3         SCol    15 0.0001\n",
            "4         SCom     3 0.0000\n",
            "5           CB  4783 0.0362\n",
            "6        SCoop   752 0.0057\n",
            "7         Asoc  3081 0.0233\n",
            "8       OrgAut   219 0.0017\n",
            "9         PerF 72092 0.5453\n"
          ]
        }
      ]
    },
    {
      "cell_type": "markdown",
      "source": [
        "O de manera porcentual:"
      ],
      "metadata": {
        "id": "dvd7Y136iYdu"
      }
    },
    {
      "cell_type": "code",
      "source": [
        "%%R\n",
        "datos$fi_porc <- round(datos$fi * 100, 2)\n",
        "datos"
      ],
      "metadata": {
        "colab": {
          "base_uri": "https://localhost:8080/",
          "height": 0
        },
        "id": "KcCnokEYiWEh",
        "outputId": "da9632b3-87ee-48a9-d230-cc30458bd381"
      },
      "execution_count": 8,
      "outputs": [
        {
          "output_type": "stream",
          "name": "stdout",
          "text": [
            "  tipo_empresa    ni     fi fi_porc\n",
            "1           SA  2173 0.0164    1.64\n",
            "2          SRL 49088 0.3713   37.13\n",
            "3         SCol    15 0.0001    0.01\n",
            "4         SCom     3 0.0000    0.00\n",
            "5           CB  4783 0.0362    3.62\n",
            "6        SCoop   752 0.0057    0.57\n",
            "7         Asoc  3081 0.0233    2.33\n",
            "8       OrgAut   219 0.0017    0.17\n",
            "9         PerF 72092 0.5453   54.53\n"
          ]
        }
      ]
    },
    {
      "cell_type": "markdown",
      "source": [
        "### Gráfico de Barras (Histograma)"
      ],
      "metadata": {
        "id": "AJhS-6VNijKX"
      }
    },
    {
      "cell_type": "code",
      "source": [
        "%%R\n",
        "ggplot(datos, aes(x = tipo_empresa, y = ni)) +\n",
        "  geom_bar(stat = \"identity\", color = \"navy\", fill = \"cyan\") +\n",
        "  xlab(\"Tipo de empresa\") +\n",
        "  ylab(\"Conteo\") +\n",
        "  ggtitle(\"Histograma\")"
      ],
      "metadata": {
        "colab": {
          "base_uri": "https://localhost:8080/",
          "height": 497
        },
        "id": "tt7pqzFAicBY",
        "outputId": "3cde7d49-0baf-4ad5-a0b3-2348cce40ba7"
      },
      "execution_count": 9,
      "outputs": [
        {
          "output_type": "display_data",
          "data": {
            "image/png": "[encoded data removed]",
            "text/plain": [
              "<IPython.core.display.Image object>"
            ]
          },
          "metadata": {}
        }
      ]
    },
    {
      "cell_type": "markdown",
      "source": [
        "Podemos visualizar los datos de más peso en el porcentaje con un gráfico circular (pie chart):"
      ],
      "metadata": {
        "id": "GxgX0m5niqVS"
      }
    },
    {
      "cell_type": "code",
      "source": [
        "%%R\n",
        "ggplot(datos, aes(\"\", fi_porc, fill = tipo_empresa)) +\n",
        "  geom_col(width = 1, color = \"white\") +\n",
        "  coord_polar(theta = \"y\") +\n",
        "  geom_text(aes(label = scales::percent(fi, accuracy = 0.1)),\n",
        "            position = position_stack(vjust = 0.5),\n",
        "            check_overlap = TRUE,\n",
        "            size = 5) +\n",
        "  guides(fill = guide_legend(title = \"Tipo de Empresa\")) +\n",
        "  theme_void()\n"
      ],
      "metadata": {
        "colab": {
          "base_uri": "https://localhost:8080/",
          "height": 497
        },
        "id": "iRE7DrNVinHI",
        "outputId": "4ec623ee-1524-4e31-c663-5c5557b7c495"
      },
      "execution_count": 10,
      "outputs": [
        {
          "output_type": "display_data",
          "data": {
            "image/png": "[encoded data removed]",
            "text/plain": [
              "<IPython.core.display.Image object>"
            ]
          },
          "metadata": {}
        }
      ]
    },
    {
      "cell_type": "markdown",
      "source": [
        "Podemos comparar estos métodos de representación y ver que en ambos perdemos visibilidad de 'los pequeños jugadores' del sector. Pueden dar una idea general de los grandes sectores, pero se pierde granularidad en la interpretación.\n"
      ],
      "metadata": {
        "id": "l8Q1sdmciv2D"
      }
    },
    {
      "cell_type": "markdown",
      "source": [
        "# Ejercicio 2\n",
        "Para realizar la práctica importamos las bases de datos."
      ],
      "metadata": {
        "id": "daO22aj2i0UZ"
      }
    },
    {
      "cell_type": "code",
      "source": [
        "%%R\n",
        "bd_satisfaccion <- read_delim(\"/content/data/bd_satisfaccion.csv\",   delim = \";\", escape_double = FALSE, trim_ws = TRUE)"
      ],
      "metadata": {
        "colab": {
          "base_uri": "https://localhost:8080/",
          "height": 0
        },
        "collapsed": true,
        "id": "fVRfL4LlitjL",
        "outputId": "15b96d0d-56de-45df-cc79-3f285b783c54"
      },
      "execution_count": 11,
      "outputs": [
        {
          "output_type": "stream",
          "name": "stdout",
          "text": [
            "Rows: 550 Columns: 4\n",
            "── Column specification ────────────────────────────────────────────────────────\n",
            "Delimiter: \";\"\n",
            "chr (3): Satisfaccion_Calidad, Satisfaccion_Atencion, Satisfaccion_Precio\n",
            "dbl (1): ID\n",
            "\n",
            "ℹ Use `spec()` to retrieve the full column specification for this data.\n",
            "ℹ Specify the column types or set `show_col_types = FALSE` to quiet this message.\n"
          ]
        }
      ]
    },
    {
      "cell_type": "markdown",
      "source": [
        "Podemos hacernos una idea orientativa de los datos viendo las entradas:"
      ],
      "metadata": {
        "id": "L9MBrS3MjJHP"
      }
    },
    {
      "cell_type": "code",
      "source": [
        "%%R\n",
        "head(bd_satisfaccion)"
      ],
      "metadata": {
        "colab": {
          "base_uri": "https://localhost:8080/",
          "height": 0
        },
        "id": "B4-jmQNwi61y",
        "outputId": "7f58f33d-1158-4e10-e619-ce5d0e93da38"
      },
      "execution_count": 12,
      "outputs": [
        {
          "output_type": "stream",
          "name": "stdout",
          "text": [
            "# A tibble: 6 × 4\n",
            "     ID Satisfaccion_Calidad Satisfaccion_Atencion Satisfaccion_Precio\n",
            "  <dbl> <chr>                <chr>                 <chr>              \n",
            "1     1 Neutral              Satisfecho            Muy satisfecho     \n",
            "2     2 Neutral              Neutral               Muy satisfecho     \n",
            "3     3 Insatisfecho         Satisfecho            Satisfecho         \n",
            "4     4 Insatisfecho         Muy satisfecho        Neutral            \n",
            "5     5 Neutral              Muy satisfecho        Neutral            \n",
            "6     6 Muy satisfecho       Satisfecho            Muy insatisfecho   \n"
          ]
        }
      ]
    },
    {
      "cell_type": "markdown",
      "source": [
        "Podemos visualizar los datos con histogramas ordenados por nivel de satisfacción.\n"
      ],
      "metadata": {
        "id": "4NSVUk0KjWH_"
      }
    },
    {
      "cell_type": "code",
      "metadata": {
        "colab": {
          "base_uri": "https://localhost:8080/",
          "height": 497
        },
        "id": "26835e9f",
        "outputId": "f4708ee0-c47d-4a23-c924-4d7e293b05be"
      },
      "source": [
        "%%R\n",
        "# Histograma de Satisfaccion_Calidad\n",
        "satisfaccion_calidad_counts <- bd_satisfaccion %>%\n",
        "  count(Satisfaccion_Calidad) %>%\n",
        "  mutate(Satisfaccion_Calidad = factor(Satisfaccion_Calidad, levels = c(\"Muy insatisfecho\", \"Insatisfecho\", \"Neutral\", \"Satisfecho\", \"Muy satisfecho\"))) %>%\n",
        "  arrange(Satisfaccion_Calidad)\n",
        "\n",
        "ggplot(satisfaccion_calidad_counts, aes(x = Satisfaccion_Calidad, y = n)) +\n",
        "  geom_bar(stat = \"identity\", fill = \"skyblue\") +\n",
        "  xlab(\"Nivel de Satisfacción de Calidad\") +\n",
        "  ylab(\"Frecuencia\") +\n",
        "  ggtitle(\"Histograma de Satisfacción de Calidad\") +\n",
        "  theme(axis.text.x = element_text(angle = 45, hjust = 1))"
      ],
      "execution_count": 13,
      "outputs": [
        {
          "output_type": "display_data",
          "data": {
            "image/png": "[encoded data removed]",
            "text/plain": [
              "<IPython.core.display.Image object>"
            ]
          },
          "metadata": {}
        }
      ]
    },
    {
      "cell_type": "code",
      "metadata": {
        "colab": {
          "base_uri": "https://localhost:8080/",
          "height": 497
        },
        "id": "fbcdfa40",
        "outputId": "615b4c91-45ce-420e-d9b0-281744b0274f"
      },
      "source": [
        "%%R\n",
        "# Histograma de Satisfaccion_Atencion\n",
        "satisfaccion_atencion_counts <- bd_satisfaccion %>%\n",
        "  count(Satisfaccion_Atencion) %>%\n",
        "  mutate(Satisfaccion_Atencion = factor(Satisfaccion_Atencion, levels = c(\"Muy insatisfecho\", \"Insatisfecho\", \"Neutral\", \"Satisfecho\", \"Muy satisfecho\"))) %>%\n",
        "  arrange(Satisfaccion_Atencion)\n",
        "\n",
        "ggplot(satisfaccion_atencion_counts, aes(x = Satisfaccion_Atencion, y = n)) +\n",
        "  geom_bar(stat = \"identity\", fill = \"lightgreen\") +\n",
        "  xlab(\"Nivel de Satisfacción de Atención\") +\n",
        "  ylab(\"Frecuencia\") +\n",
        "  ggtitle(\"Histograma de Satisfacción de Atención\") +\n",
        "  theme(axis.text.x = element_text(angle = 45, hjust = 1))"
      ],
      "execution_count": 14,
      "outputs": [
        {
          "output_type": "display_data",
          "data": {
            "image/png": "[encoded data removed]",
            "text/plain": [
              "<IPython.core.display.Image object>"
            ]
          },
          "metadata": {}
        }
      ]
    },
    {
      "cell_type": "code",
      "metadata": {
        "colab": {
          "base_uri": "https://localhost:8080/",
          "height": 497
        },
        "id": "bb03c73f",
        "outputId": "ec8c8be0-1ecb-4353-f9e1-e514bcce0ffd"
      },
      "source": [
        "%%R\n",
        "# Histograma de Satisfaccion_Precio\n",
        "satisfaccion_precio_counts <- bd_satisfaccion %>%\n",
        "  count(Satisfaccion_Precio) %>%\n",
        "  mutate(Satisfaccion_Precio = factor(Satisfaccion_Precio, levels = c(\"Muy insatisfecho\", \"Insatisfecho\", \"Neutral\", \"Satisfecho\", \"Muy satisfecho\"))) %>%\n",
        "  arrange(Satisfaccion_Precio)\n",
        "\n",
        "ggplot(satisfaccion_precio_counts, aes(x = Satisfaccion_Precio, y = n)) +\n",
        "  geom_bar(stat = \"identity\", fill = \"salmon\") +\n",
        "  xlab(\"Nivel de Satisfacción de Precio\") +\n",
        "  ylab(\"Frecuencia\") +\n",
        "  ggtitle(\"Histograma de Satisfacción de Precio\") +\n",
        "  theme(axis.text.x = element_text(angle = 45, hjust = 1))"
      ],
      "execution_count": 15,
      "outputs": [
        {
          "output_type": "display_data",
          "data": {
            "image/png": "[encoded data removed]",
            "text/plain": [
              "<IPython.core.display.Image object>"
            ]
          },
          "metadata": {}
        }
      ]
    },
    {
      "cell_type": "code",
      "source": [
        "%%R\n",
        "# Calculate frequency tables for all three satisfaction variables\n",
        "satisfaccion_calidad_counts <- bd_satisfaccion %>%\n",
        "  count(Satisfaccion_Calidad) %>%\n",
        "  mutate(Satisfaccion_Calidad = factor(Satisfaccion_Calidad, levels = c(\"Muy insatisfecho\", \"Insatisfecho\", \"Neutral\", \"Satisfecho\", \"Muy satisfecho\"))) %>%\n",
        "  mutate(Variable = \"Calidad\") %>%\n",
        "  rename(Level = Satisfaccion_Calidad)\n",
        "\n",
        "satisfaccion_atencion_counts <- bd_satisfaccion %>%\n",
        "  count(Satisfaccion_Atencion) %>%\n",
        "  mutate(Satisfaccion_Atencion = factor(Satisfaccion_Atencion, levels = c(\"Muy insatisfecho\", \"Insatisfecho\", \"Neutral\", \"Satisfecho\", \"Muy satisfecho\"))) %>%\n",
        "  mutate(Variable = \"Atencion\") %>%\n",
        "  rename(Level = Satisfaccion_Atencion)\n",
        "\n",
        "satisfaccion_precio_counts <- bd_satisfaccion %>%\n",
        "  count(Satisfaccion_Precio) %>%\n",
        "  mutate(Satisfaccion_Precio = factor(Satisfaccion_Precio, levels = c(\"Muy insatisfecho\", \"Insatisfecho\", \"Neutral\", \"Satisfecho\", \"Muy satisfecho\"))) %>%\n",
        "  mutate(Variable = \"Precio\") %>%\n",
        "  rename(Level = Satisfaccion_Precio)\n",
        "\n",
        "# Combine the frequency tables\n",
        "combined_satisfaccion_counts <- bind_rows(satisfaccion_calidad_counts, satisfaccion_atencion_counts, satisfaccion_precio_counts)\n",
        "\n",
        "# Create the point plot\n",
        "ggplot(combined_satisfaccion_counts, aes(x = Level, y = n, color = Variable, group = Variable)) +\n",
        "  geom_point(size = 3) +\n",
        "  xlab(\"Nivel de Satisfacción\") +\n",
        "  ylab(\"Frecuencia\") +\n",
        "  ggtitle(\"Frecuencia de Niveles de Satisfacción por Variable\") +\n",
        "  theme(axis.text.x = element_text(angle = 45, hjust = 1)) +\n",
        "  scale_color_manual(values = c(\"Calidad\" = \"skyblue\", \"Atencion\" = \"lightgreen\", \"Precio\" = \"salmon\"))"
      ],
      "metadata": {
        "colab": {
          "base_uri": "https://localhost:8080/",
          "height": 497
        },
        "id": "RFTP9BrprzlQ",
        "outputId": "a8fa0ccf-b59c-4dfa-d3ca-c5b8eab1f1ec"
      },
      "execution_count": 16,
      "outputs": [
        {
          "output_type": "display_data",
          "data": {
            "image/png": "[encoded data removed]",
            "text/plain": [
              "<IPython.core.display.Image object>"
            ]
          },
          "metadata": {}
        }
      ]
    },
    {
      "cell_type": "markdown",
      "source": [
        "La variable \"Satisfaccion_Calidad\" es una Variable Categórica Cualitativa Ordinal.\n",
        "\n",
        "- Es **Categórica Cualitativa** porque refleja una cualidad característica (nivel de satisfacción), no un valor numérico.\n",
        "\n",
        "- Es Ordinal porque las categorías están ordenadas (de \"Muy insaatisfecho\"  a \"Muy satisfecho\").\n",
        "\n"
      ],
      "metadata": {
        "id": "ZXOWN1g6l0xc"
      }
    },
    {
      "cell_type": "markdown",
      "source": [
        "### c) Construye la tabla de frecuencia adecuada para esa variable\n",
        "\n"
      ],
      "metadata": {
        "id": "uLFHSpvvmt3z"
      }
    },
    {
      "cell_type": "code",
      "source": [
        "%%R\n",
        "# Calculate frequency table for Satisfaccion_Calidad\n",
        "satisfaccion_calidad_freq <- bd_satisfaccion %>%\n",
        "  count(Satisfaccion_Calidad) %>%\n",
        "  mutate(\n",
        "    fi = n / sum(n), # Relative frequency\n",
        "    fi_porc = fi * 100 # Percentage\n",
        "  ) %>%\n",
        "  mutate(Satisfaccion_Calidad = factor(Satisfaccion_Calidad, levels = c(\"Muy insatisfecho\", \"Insatisfecho\", \"Neutral\", \"Satisfecho\", \"Muy satisfecho\"))) %>%\n",
        "  arrange(Satisfaccion_Calidad)\n",
        "\n",
        "# Display the frequency table\n",
        "print(satisfaccion_calidad_freq)"
      ],
      "metadata": {
        "colab": {
          "base_uri": "https://localhost:8080/",
          "height": 0
        },
        "id": "TFKAtlV0j97F",
        "outputId": "418401d7-ca1a-4394-cebe-db43b681eea2"
      },
      "execution_count": 17,
      "outputs": [
        {
          "output_type": "stream",
          "name": "stdout",
          "text": [
            "# A tibble: 5 × 4\n",
            "  Satisfaccion_Calidad     n    fi fi_porc\n",
            "  <fct>                <int> <dbl>   <dbl>\n",
            "1 Muy insatisfecho        60 0.109    10.9\n",
            "2 Insatisfecho            73 0.133    13.3\n",
            "3 Neutral                 82 0.149    14.9\n",
            "4 Satisfecho             228 0.415    41.5\n",
            "5 Muy satisfecho         107 0.195    19.5\n"
          ]
        }
      ]
    },
    {
      "cell_type": "markdown",
      "source": [
        "d) ¿Cuántos clientes están insatisfechos o muy insatisfechos con la calidad del servicio?\n",
        "¿a qué porcentaje de clientes corresponde?"
      ],
      "metadata": {
        "id": "0v4yjfRVqzUB"
      }
    },
    {
      "cell_type": "code",
      "metadata": {
        "colab": {
          "base_uri": "https://localhost:8080/",
          "height": 0
        },
        "id": "907c3792",
        "outputId": "2d28a8d3-5f5a-4e16-b2a1-b0cd5cbca758"
      },
      "source": [
        "%%R\n",
        "# Filtrado por <= Insatisfecho en Satisfaccion_Calidad\n",
        "dissatisfied_calidad <- bd_satisfaccion %>%\n",
        "  filter(Satisfaccion_Calidad %in% c(\"Insatisfecho\", \"Muy insatisfecho\"))\n",
        "\n",
        "# No de Clientes <= Insatisfechos\n",
        "num_dissatisfied_calidad <- nrow(dissatisfied_calidad)\n",
        "\n",
        "# No Total de Clientes\n",
        "total_customers <- nrow(bd_satisfaccion)\n",
        "\n",
        "# Porcentaje de Clientes <= Insatisfechos\n",
        "percentage_dissatisfied_calidad <- (num_dissatisfied_calidad / total_customers) * 100\n",
        "\n",
        "# Print\n",
        "cat(\"Numero de clientes Insatisfechos (o peor):\", num_dissatisfied_calidad, \"\\n\")\n",
        "cat(\"Porcentual:\", round(percentage_dissatisfied_calidad, 2), \"%\\n\")"
      ],
      "execution_count": 18,
      "outputs": [
        {
          "output_type": "stream",
          "name": "stdout",
          "text": [
            "Numero de clientes Insatisfechos (o peor): 133 \n",
            "Porcentual: 24.18 %\n"
          ]
        }
      ]
    },
    {
      "cell_type": "markdown",
      "source": [
        "Esto es consistente con obvservar la tabla, con un extra en precisión."
      ],
      "metadata": {
        "id": "_BkNBumarOkD"
      }
    },
    {
      "cell_type": "code",
      "metadata": {
        "colab": {
          "base_uri": "https://localhost:8080/",
          "height": 0
        },
        "id": "7cb224fa",
        "outputId": "0e2cc7ed-91f0-449c-9e1d-d56862192061"
      },
      "source": [
        "%%R\n",
        "# Filtrado por >= Satisfecho en Satisfaccion_Calidad\n",
        "satisfied_calidad <- bd_satisfaccion %>%\n",
        "  filter(Satisfaccion_Calidad %in% c(\"Satisfecho\", \"Muy satisfecho\"))\n",
        "\n",
        "# Contar >= Satisfecho\n",
        "num_satisfied_calidad <- nrow(satisfied_calidad)\n",
        "\n",
        "# Total\n",
        "total_customers <- nrow(bd_satisfaccion)\n",
        "\n",
        "# Porcentaje >= Satisfecho\n",
        "percentage_satisfied_calidad <- (num_satisfied_calidad / total_customers) * 100\n",
        "\n",
        "# Print\n",
        "cat(\"Número de clientes Satisfechos (o mejor):\", num_satisfied_calidad, \"\\n\")\n",
        "cat(\"Porcentual:\", round(percentage_satisfied_calidad, 2), \"%\\n\")"
      ],
      "execution_count": 19,
      "outputs": [
        {
          "output_type": "stream",
          "name": "stdout",
          "text": [
            "Número de clientes Satisfechos (o mejor): 335 \n",
            "Porcentual: 60.91 %\n"
          ]
        }
      ]
    },
    {
      "cell_type": "markdown",
      "source": [
        "Igualmente, consistente con una precisión mayor."
      ],
      "metadata": {
        "id": "zl0-JN67raII"
      }
    },
    {
      "cell_type": "markdown",
      "source": [
        "f) La gráfica de barras ya está hecha, porque me pareció la manera más adecuada de visualizar los datos. Arriba en Azul Celeste.\n"
      ],
      "metadata": {
        "id": "ssDpUKEapjFx"
      }
    },
    {
      "cell_type": "code",
      "metadata": {
        "colab": {
          "base_uri": "https://localhost:8080/",
          "height": 497
        },
        "id": "ebf080b8",
        "outputId": "e3607681-be9f-40be-c965-5ff8a6081143"
      },
      "source": [
        "%%R\n",
        "# Sectores (Gráfico de Tarta) para Satisfaccion_Calidad\n",
        "satisfaccion_calidad_counts <- bd_satisfaccion %>%\n",
        "  count(Satisfaccion_Calidad) %>%\n",
        "  mutate(Satisfaccion_Calidad = factor(Satisfaccion_Calidad, levels = c(\"Muy insatisfecho\", \"Insatisfecho\", \"Neutral\", \"Satisfecho\", \"Muy satisfecho\"))) %>%\n",
        "  arrange(Satisfaccion_Calidad) %>%\n",
        "  mutate(percentage = n / sum(n)) # Porcentajes\n",
        "\n",
        "ggplot(satisfaccion_calidad_counts, aes(x = \"\", y = percentage, fill = Satisfaccion_Calidad)) +\n",
        "  geom_bar(stat = \"identity\", width = 1) +\n",
        "  coord_polar(theta = \"y\") +\n",
        "  geom_text(aes(label = scales::percent(percentage)), position = position_stack(vjust = 0.5)) +\n",
        "  labs(title = \"Sectores de Satisfacción en la Calidad del Servicio\", fill = \"Nivel De Satisfacción\") +\n",
        "  theme_void()"
      ],
      "execution_count": 20,
      "outputs": [
        {
          "output_type": "display_data",
          "data": {
            "image/png": "[encoded data removed]",
            "text/plain": [
              "<IPython.core.display.Image object>"
            ]
          },
          "metadata": {}
        }
      ]
    },
    {
      "cell_type": "code",
      "source": [],
      "metadata": {
        "id": "SE4MjNrUowO0"
      },
      "execution_count": 20,
      "outputs": []
    },
    {
      "cell_type": "markdown",
      "source": [
        "# Ejercicio 3\n"
      ],
      "metadata": {
        "id": "kyzvqDxnoxC9"
      }
    },
    {
      "cell_type": "markdown",
      "source": [
        "La base de datos contiene datos sobre empleados en una empresa en la que se recoge el salario mensual, las horas trabajadas a la semana y la cantidad de proyectos en los que han participado. Las variables son las siguientes:\n",
        "- ID: Identificador empleado.\n",
        "- Salario_Mensual: Salario mensual del empleado en miles de dólares.\n",
        "- Horas_Trabajadas_Semana: Cantidad de horas trabajadas por el empleado cada semana.\n",
        "- Numero_ Proyectos: Número de proyectos en los que el empleado ha participado."
      ],
      "metadata": {
        "id": "0VfXLaf_spw3"
      }
    },
    {
      "cell_type": "code",
      "source": [
        "%%R\n",
        "\n",
        "bd_empleados <- read_delim(\"/content/data/bd_empleados.csv\",   delim = \";\", escape_double = FALSE, trim_ws = TRUE)\n",
        "head(bd_empleados)\n",
        "spec(bd_empleados)\n",
        "\n"
      ],
      "metadata": {
        "colab": {
          "base_uri": "https://localhost:8080/",
          "height": 0
        },
        "id": "GOhQREoxjTnY",
        "outputId": "93170476-82b2-4ce4-eb4a-70c6fa7acc8b"
      },
      "execution_count": 21,
      "outputs": [
        {
          "output_type": "stream",
          "name": "stdout",
          "text": [
            "Rows: 350 Columns: 4\n",
            "── Column specification ────────────────────────────────────────────────────────\n",
            "Delimiter: \";\"\n",
            "dbl (4): ID, Salario_Mensual, Horas_Trabajadas_Semana, Numero_Proyectos\n",
            "\n",
            "ℹ Use `spec()` to retrieve the full column specification for this data.\n",
            "ℹ Specify the column types or set `show_col_types = FALSE` to quiet this message.\n",
            "cols(\n",
            "  ID = col_double(),\n",
            "  Salario_Mensual = col_double(),\n",
            "  Horas_Trabajadas_Semana = col_double(),\n",
            "  Numero_Proyectos = col_double()\n",
            ")\n"
          ]
        }
      ]
    },
    {
      "cell_type": "markdown",
      "source": [
        "### a) Indica el tipo de variable que se está midiendo en cada una de las variables de esta base de datos."
      ],
      "metadata": {
        "id": "F7tKqQtvs7c3"
      }
    },
    {
      "cell_type": "markdown",
      "metadata": {
        "id": "ae9329e6"
      },
      "source": [
        "- **ID**: Es un identificador para cada empleado.\n",
        "  - **Variable Categórica Cualitativa Nominal**.\n",
        "    - Es nominal porque los números no corresponden a ninguna cantidad o orden. Solo sirven para distinguir un empleado de otro de manera única. Pero es una medida **Nominal**.\n",
        "\n",
        "- **Salario_Mensual**: Represent el salario mensual en miles de euros, creo.\n",
        "  - Es un valor numérico continuo con un zero absoluto: **Variable Cuantitativa Continua**. De tipo **Ratio**.\n",
        "\n",
        "- **Horas_Trabajadas_Semana**: Número de horas trabajadas por semana.\n",
        "   - Valor numérico medible con zero absoluto: **Variable Cuantitativa Continua**, **Ratio**.\n",
        "\n",
        "- **Numero_Proyectos**: Contabiliza el número de proyectos en los que ha participado el empleado.\n",
        "  - Cuenta de manera discreta y tiene un zero: **Variable Cuantitativa Discreta**, Ratio."
      ]
    },
    {
      "cell_type": "markdown",
      "source": [
        "### b) Construye la tabla de frecuencias adecuada para la variable Numero_Proyectos (no agrupes los datos en intervalos)."
      ],
      "metadata": {
        "id": "-g7rmhiJVtvj"
      }
    },
    {
      "cell_type": "code",
      "metadata": {
        "colab": {
          "base_uri": "https://localhost:8080/",
          "height": 0
        },
        "id": "59a3686c",
        "outputId": "4ebdd6ee-7354-4706-bff9-08963fcfdab3"
      },
      "source": [
        "%%R\n",
        "# Tabla de Frequencias Numero_Proyectos\n",
        "numero_proyectos_freq <- bd_empleados %>%\n",
        "  count(Numero_Proyectos) %>%\n",
        "  mutate(\n",
        "    fi = n / sum(n), # Relativa\n",
        "    fi_porc = fi * 100 # Porcentual\n",
        "  ) %>%\n",
        "  arrange(Numero_Proyectos) %>%\n",
        "  mutate(\n",
        "      Ni = cumsum(n), # Frecuencia Absoluta Acumulada\n",
        "      Fi = cumsum(fi), # Frecuencia Relativa Acumulada\n",
        "      Fi_porc = Fi * 100 # Porcentual\n",
        " )\n",
        "\n",
        "\n",
        "# En el display\n",
        "print(numero_proyectos_freq)"
      ],
      "execution_count": 22,
      "outputs": [
        {
          "output_type": "stream",
          "name": "stdout",
          "text": [
            "# A tibble: 9 × 7\n",
            "  Numero_Proyectos     n     fi fi_porc    Ni    Fi Fi_porc\n",
            "             <dbl> <int>  <dbl>   <dbl> <int> <dbl>   <dbl>\n",
            "1                0    90 0.257    25.7     90 0.257    25.7\n",
            "2                1    34 0.0971    9.71   124 0.354    35.4\n",
            "3                2    42 0.12     12      166 0.474    47.4\n",
            "4                3    21 0.06      6      187 0.534    53.4\n",
            "5                4    31 0.0886    8.86   218 0.623    62.3\n",
            "6                5    25 0.0714    7.14   243 0.694    69.4\n",
            "7                6    50 0.143    14.3    293 0.837    83.7\n",
            "8                7    31 0.0886    8.86   324 0.926    92.6\n",
            "9                8    26 0.0743    7.43   350 1       100  \n"
          ]
        }
      ]
    },
    {
      "cell_type": "markdown",
      "source": [
        "### c) ¿Qué porcentaje de trabajadores no ha participado en ningún proyecto?\n",
        "\n",
        "25.7%"
      ],
      "metadata": {
        "id": "QlWEmi4SeuVg"
      }
    },
    {
      "cell_type": "markdown",
      "source": [
        "### d) ¿Cuántos trabajadores han participado en 5 proyectos?\n",
        "31"
      ],
      "metadata": {
        "id": "ruDSRzfifAwk"
      }
    },
    {
      "cell_type": "markdown",
      "source": [
        "### e) ¿Qué porcentaje de trabajadores ha participado en 4 proyectos o menos?\n",
        "53.4\n"
      ],
      "metadata": {
        "id": "FljILgHNfC9b"
      }
    },
    {
      "cell_type": "markdown",
      "source": [
        "### d) ¿Qué porcentaje de trabajadores ha participado en más de 5 proyectos?"
      ],
      "metadata": {
        "id": "IvZUv4dWfnAA"
      }
    },
    {
      "cell_type": "code",
      "source": [
        "100-62.3"
      ],
      "metadata": {
        "colab": {
          "base_uri": "https://localhost:8080/",
          "height": 0
        },
        "id": "aVBZwvYje0T6",
        "outputId": "bbfd9568-dbb5-44b9-800f-fe1098f45f8d"
      },
      "execution_count": 23,
      "outputs": [
        {
          "output_type": "execute_result",
          "data": {
            "text/plain": [
              "37.7"
            ]
          },
          "metadata": {},
          "execution_count": 23
        }
      ]
    },
    {
      "cell_type": "markdown",
      "source": [
        "g) Realiza el gráfico o gráficos adecuados para la variable Numero_Proyectos."
      ],
      "metadata": {
        "id": "5TGGeRUqf73h"
      }
    },
    {
      "cell_type": "code",
      "metadata": {
        "colab": {
          "base_uri": "https://localhost:8080/",
          "height": 497
        },
        "id": "d1923842",
        "outputId": "32e6a9b0-46f6-4882-ceb0-3e8edc062d26"
      },
      "source": [
        "%%R\n",
        "# Create a bar chart for Numero_Proyectos\n",
        "ggplot(numero_proyectos_freq, aes(x = factor(Numero_Proyectos), y = n)) +\n",
        "  geom_bar(stat = \"identity\", fill = \"goldenrod\") +\n",
        "  xlab(\"Nº Proyectos\") +\n",
        "  ylab(\"Frecuencia Absoluta\") +\n",
        "  ggtitle(\"Numero de proyectos por empleado\")"
      ],
      "execution_count": 24,
      "outputs": [
        {
          "output_type": "display_data",
          "data": {
            "image/png": "[encoded data removed]",
            "text/plain": [
              "<IPython.core.display.Image object>"
            ]
          },
          "metadata": {}
        }
      ]
    },
    {
      "cell_type": "code",
      "source": [],
      "metadata": {
        "id": "-ciGtYCZe3IF"
      },
      "execution_count": 24,
      "outputs": []
    },
    {
      "cell_type": "code",
      "metadata": {
        "colab": {
          "base_uri": "https://localhost:8080/",
          "height": 497
        },
        "id": "7580b47c",
        "outputId": "0fda49b5-8709-45f7-aa03-5ec91b75f3a0"
      },
      "source": [
        "%%R\n",
        "# Grafica de tarta de Numero_Proyectos\n",
        "ggplot(numero_proyectos_freq, aes(x = \"\", y = fi_porc, fill = factor(Numero_Proyectos))) +\n",
        "  geom_bar(stat = \"identity\", width = 1) +\n",
        "  coord_polar(theta = \"y\") +\n",
        "  geom_text(aes(label = paste0(round(fi_porc, 1), \"%\")), position = position_stack(vjust = 0.5)) +\n",
        "  labs(title = \"Porcentaje de Nº proyectos por empleado\", fill = \"Nº de Proyectos\") +\n",
        "  theme_void()"
      ],
      "execution_count": 25,
      "outputs": [
        {
          "output_type": "display_data",
          "data": {
            "image/png": "[encoded data removed]",
            "text/plain": [
              "<IPython.core.display.Image object>"
            ]
          },
          "metadata": {}
        }
      ]
    },
    {
      "cell_type": "markdown",
      "source": [
        "### h) Construye la tabla de frecuencias con 6 intervalos para la variable Salario_Mensual."
      ],
      "metadata": {
        "id": "MXD4k-Amg4Tc"
      }
    },
    {
      "cell_type": "code",
      "source": [],
      "metadata": {
        "id": "2XCCNZm6g901"
      },
      "execution_count": 25,
      "outputs": []
    },
    {
      "cell_type": "code",
      "metadata": {
        "colab": {
          "base_uri": "https://localhost:8080/",
          "height": 0
        },
        "id": "f6db0f0e",
        "outputId": "e7abf1e9-09e8-4eaa-99fc-a59d2e57534a"
      },
      "source": [
        "%%R\n",
        "# Determinar el máximo para determinar rangos\n",
        "max_salario <- max(bd_empleados$Salario_Mensual)\n",
        "alto_salario <- ceiling(max_salario )\n",
        "\n",
        "cortes <- c(0, 1.5, 2.5, 3.5, 4.5, 5.5, alto_salario)\n",
        "\n",
        "# Repartición\n",
        "bd_empleados$Salario_Mensual_Interval <- cut(bd_empleados$Salario_Mensual, breaks = cortes, include.lowest = TRUE, right = FALSE)\n",
        "\n",
        "# Tabla de frecuencia\n",
        "salario_freq_grouped <- bd_empleados %>%\n",
        "  count(Salario_Mensual_Interval) %>%\n",
        "  mutate(\n",
        "    fi = n / sum(n), # Frecuencia Relativa\n",
        "    fi_porc = fi * 100 # Porcential\n",
        "  ) %>%\n",
        "  mutate(\n",
        "      Ni = cumsum(n), # Frecuencia Absoluta Acumulada\n",
        "      Fi = cumsum(fi), # Frecuencia Relativa Acumulada\n",
        "      Fi_p = cumsum(fi)*100 # Frecuencia Relativa Acumulada\n",
        "  )\n",
        "\n",
        "# Mostrar\n",
        "print(salario_freq_grouped)"
      ],
      "execution_count": 26,
      "outputs": [
        {
          "output_type": "stream",
          "name": "stdout",
          "text": [
            "# A tibble: 6 × 7\n",
            "  Salario_Mensual_Interval     n     fi fi_porc    Ni     Fi   Fi_p\n",
            "  <fct>                    <int>  <dbl>   <dbl> <int>  <dbl>  <dbl>\n",
            "1 [0,1.5)                      9 0.0257    2.57     9 0.0257   2.57\n",
            "2 [1.5,2.5)                   49 0.14     14       58 0.166   16.6 \n",
            "3 [2.5,3.5)                  120 0.343    34.3    178 0.509   50.9 \n",
            "4 [3.5,4.5)                  117 0.334    33.4    295 0.843   84.3 \n",
            "5 [4.5,5.5)                   48 0.137    13.7    343 0.98    98   \n",
            "6 [5.5,7]                      7 0.02      2      350 1      100   \n"
          ]
        }
      ]
    },
    {
      "cell_type": "markdown",
      "source": [
        "### i) ¿Cuántos empleados cobran entre 3500 y 4500 dólares?\n",
        "$117$ _empleados_"
      ],
      "metadata": {
        "id": "K25zzDRLhkw7"
      }
    },
    {
      "cell_type": "markdown",
      "source": [
        "### j) ¿Qué porcentaje de empleados tiene un salario menor a 2500 dólares?\n",
        "$16.6$ %"
      ],
      "metadata": {
        "id": "07I4NrtGjqoD"
      }
    },
    {
      "cell_type": "markdown",
      "source": [
        "### k) ¿Qué porcentaje de empleados tiene un salario mayor a 4500 dólares?"
      ],
      "metadata": {
        "id": "MjWqrT1KkPob"
      }
    },
    {
      "cell_type": "code",
      "source": [
        "100 - 98"
      ],
      "metadata": {
        "colab": {
          "base_uri": "https://localhost:8080/",
          "height": 0
        },
        "id": "7gaHTMmqhhqO",
        "outputId": "1a9a8fb6-c9a3-4eb8-f6f5-0669b3c47ac0"
      },
      "execution_count": 27,
      "outputs": [
        {
          "output_type": "execute_result",
          "data": {
            "text/plain": [
              "2"
            ]
          },
          "metadata": {},
          "execution_count": 27
        }
      ]
    },
    {
      "cell_type": "markdown",
      "source": [
        "### l) Realiza ahora la tabla de frecuencias mediante la librería summarytools.\n",
        "\n",
        "Debido a un problema en Jupyter, he tenido que instalar una alternativa en Python:\n"
      ],
      "metadata": {
        "id": "ly2ijbeckco9"
      }
    },
    {
      "cell_type": "code",
      "metadata": {
        "colab": {
          "base_uri": "https://localhost:8080/",
          "height": 0
        },
        "collapsed": true,
        "id": "8541ec97",
        "outputId": "821c9753-d8a4-4629-fadc-ba04ee802d5f"
      },
      "source": [
        "%pip install jupyter-summarytools"
      ],
      "execution_count": 51,
      "outputs": [
        {
          "output_type": "stream",
          "name": "stdout",
          "text": [
            "Requirement already satisfied: jupyter-summarytools in /usr/local/lib/python3.12/dist-packages (0.2.3)\n",
            "Requirement already satisfied: pandas>=1.4.0 in /usr/local/lib/python3.12/dist-packages (from jupyter-summarytools) (2.2.2)\n",
            "Requirement already satisfied: ipython>=7.20.0 in /usr/local/lib/python3.12/dist-packages (from jupyter-summarytools) (7.34.0)\n",
            "Requirement already satisfied: numpy>=1.18.5 in /usr/local/lib/python3.12/dist-packages (from jupyter-summarytools) (2.0.2)\n",
            "Requirement already satisfied: matplotlib>=3.3.0 in /usr/local/lib/python3.12/dist-packages (from jupyter-summarytools) (3.10.0)\n",
            "Requirement already satisfied: setuptools>=18.5 in /usr/local/lib/python3.12/dist-packages (from ipython>=7.20.0->jupyter-summarytools) (75.2.0)\n",
            "Requirement already satisfied: jedi>=0.16 in /usr/local/lib/python3.12/dist-packages (from ipython>=7.20.0->jupyter-summarytools) (0.19.2)\n",
            "Requirement already satisfied: decorator in /usr/local/lib/python3.12/dist-packages (from ipython>=7.20.0->jupyter-summarytools) (4.4.2)\n",
            "Requirement already satisfied: pickleshare in /usr/local/lib/python3.12/dist-packages (from ipython>=7.20.0->jupyter-summarytools) (0.7.5)\n",
            "Requirement already satisfied: traitlets>=4.2 in /usr/local/lib/python3.12/dist-packages (from ipython>=7.20.0->jupyter-summarytools) (5.7.1)\n",
            "Requirement already satisfied: prompt-toolkit!=3.0.0,!=3.0.1,<3.1.0,>=2.0.0 in /usr/local/lib/python3.12/dist-packages (from ipython>=7.20.0->jupyter-summarytools) (3.0.52)\n",
            "Requirement already satisfied: pygments in /usr/local/lib/python3.12/dist-packages (from ipython>=7.20.0->jupyter-summarytools) (2.19.2)\n",
            "Requirement already satisfied: backcall in /usr/local/lib/python3.12/dist-packages (from ipython>=7.20.0->jupyter-summarytools) (0.2.0)\n",
            "Requirement already satisfied: matplotlib-inline in /usr/local/lib/python3.12/dist-packages (from ipython>=7.20.0->jupyter-summarytools) (0.1.7)\n",
            "Requirement already satisfied: pexpect>4.3 in /usr/local/lib/python3.12/dist-packages (from ipython>=7.20.0->jupyter-summarytools) (4.9.0)\n",
            "Requirement already satisfied: contourpy>=1.0.1 in /usr/local/lib/python3.12/dist-packages (from matplotlib>=3.3.0->jupyter-summarytools) (1.3.3)\n",
            "Requirement already satisfied: cycler>=0.10 in /usr/local/lib/python3.12/dist-packages (from matplotlib>=3.3.0->jupyter-summarytools) (0.12.1)\n",
            "Requirement already satisfied: fonttools>=4.22.0 in /usr/local/lib/python3.12/dist-packages (from matplotlib>=3.3.0->jupyter-summarytools) (4.60.1)\n",
            "Requirement already satisfied: kiwisolver>=1.3.1 in /usr/local/lib/python3.12/dist-packages (from matplotlib>=3.3.0->jupyter-summarytools) (1.4.9)\n",
            "Requirement already satisfied: packaging>=20.0 in /usr/local/lib/python3.12/dist-packages (from matplotlib>=3.3.0->jupyter-summarytools) (25.0)\n",
            "Requirement already satisfied: pillow>=8 in /usr/local/lib/python3.12/dist-packages (from matplotlib>=3.3.0->jupyter-summarytools) (11.3.0)\n",
            "Requirement already satisfied: pyparsing>=2.3.1 in /usr/local/lib/python3.12/dist-packages (from matplotlib>=3.3.0->jupyter-summarytools) (3.2.5)\n",
            "Requirement already satisfied: python-dateutil>=2.7 in /usr/local/lib/python3.12/dist-packages (from matplotlib>=3.3.0->jupyter-summarytools) (2.9.0.post0)\n",
            "Requirement already satisfied: pytz>=2020.1 in /usr/local/lib/python3.12/dist-packages (from pandas>=1.4.0->jupyter-summarytools) (2025.2)\n",
            "Requirement already satisfied: tzdata>=2022.7 in /usr/local/lib/python3.12/dist-packages (from pandas>=1.4.0->jupyter-summarytools) (2025.2)\n",
            "Requirement already satisfied: parso<0.9.0,>=0.8.4 in /usr/local/lib/python3.12/dist-packages (from jedi>=0.16->ipython>=7.20.0->jupyter-summarytools) (0.8.5)\n",
            "Requirement already satisfied: ptyprocess>=0.5 in /usr/local/lib/python3.12/dist-packages (from pexpect>4.3->ipython>=7.20.0->jupyter-summarytools) (0.7.0)\n",
            "Requirement already satisfied: wcwidth in /usr/local/lib/python3.12/dist-packages (from prompt-toolkit!=3.0.0,!=3.0.1,<3.1.0,>=2.0.0->ipython>=7.20.0->jupyter-summarytools) (0.2.14)\n",
            "Requirement already satisfied: six>=1.5 in /usr/local/lib/python3.12/dist-packages (from python-dateutil>=2.7->matplotlib>=3.3.0->jupyter-summarytools) (1.17.0)\n"
          ]
        }
      ]
    },
    {
      "cell_type": "code",
      "metadata": {
        "colab": {
          "base_uri": "https://localhost:8080/",
          "height": 226
        },
        "id": "6631453f",
        "outputId": "6f3637f1-51e9-4779-b20a-32ae1ebcdabb"
      },
      "source": [
        "import rpy2.robjects as ro\n",
        "from rpy2.robjects import pandas2ri\n",
        "from rpy2.robjects.conversion import localconverter\n",
        "\n",
        "with localconverter(ro.default_converter + pandas2ri.converter):\n",
        "  bd_empleados_pandas = ro.conversion.rpy2py(ro.globalenv['bd_empleados'])\n",
        "\n",
        "bd_empleados_pandas.head()"
      ],
      "execution_count": 56,
      "outputs": [
        {
          "output_type": "execute_result",
          "data": {
            "text/plain": [
              "    ID  Salario_Mensual  Horas_Trabajadas_Semana  Numero_Proyectos  \\\n",
              "1  1.0             3.33                     31.8               7.0   \n",
              "2  2.0             1.30                     29.9               5.0   \n",
              "3  3.0             3.29                     37.8               0.0   \n",
              "4  4.0             2.73                     35.5               2.0   \n",
              "5  5.0             4.01                     45.4               6.0   \n",
              "\n",
              "  Salario_Mensual_Interval  \n",
              "1                [2.5,3.5)  \n",
              "2                  [0,1.5)  \n",
              "3                [2.5,3.5)  \n",
              "4                [2.5,3.5)  \n",
              "5                [3.5,4.5)  "
            ],
            "text/html": [
              "\n",
              "  <div id=\"df-ec23bde0-e814-47e1-aac8-a6a00c935202\" class=\"colab-df-container\">\n",
              "    <div>\n",
              "<style scoped>\n",
              "    .dataframe tbody tr th:only-of-type {\n",
              "        vertical-align: middle;\n",
              "    }\n",
              "\n",
              "    .dataframe tbody tr th {\n",
              "        vertical-align: top;\n",
              "    }\n",
              "\n",
              "    .dataframe thead th {\n",
              "        text-align: right;\n",
              "    }\n",
              "</style>\n",
              "<table border=\"1\" class=\"dataframe\">\n",
              "  <thead>\n",
              "    <tr style=\"text-align: right;\">\n",
              "      <th></th>\n",
              "      <th>ID</th>\n",
              "      <th>Salario_Mensual</th>\n",
              "      <th>Horas_Trabajadas_Semana</th>\n",
              "      <th>Numero_Proyectos</th>\n",
              "      <th>Salario_Mensual_Interval</th>\n",
              "    </tr>\n",
              "  </thead>\n",
              "  <tbody>\n",
              "    <tr>\n",
              "      <th>1</th>\n",
              "      <td>1.0</td>\n",
              "      <td>3.33</td>\n",
              "      <td>31.8</td>\n",
              "      <td>7.0</td>\n",
              "      <td>[2.5,3.5)</td>\n",
              "    </tr>\n",
              "    <tr>\n",
              "      <th>2</th>\n",
              "      <td>2.0</td>\n",
              "      <td>1.30</td>\n",
              "      <td>29.9</td>\n",
              "      <td>5.0</td>\n",
              "      <td>[0,1.5)</td>\n",
              "    </tr>\n",
              "    <tr>\n",
              "      <th>3</th>\n",
              "      <td>3.0</td>\n",
              "      <td>3.29</td>\n",
              "      <td>37.8</td>\n",
              "      <td>0.0</td>\n",
              "      <td>[2.5,3.5)</td>\n",
              "    </tr>\n",
              "    <tr>\n",
              "      <th>4</th>\n",
              "      <td>4.0</td>\n",
              "      <td>2.73</td>\n",
              "      <td>35.5</td>\n",
              "      <td>2.0</td>\n",
              "      <td>[2.5,3.5)</td>\n",
              "    </tr>\n",
              "    <tr>\n",
              "      <th>5</th>\n",
              "      <td>5.0</td>\n",
              "      <td>4.01</td>\n",
              "      <td>45.4</td>\n",
              "      <td>6.0</td>\n",
              "      <td>[3.5,4.5)</td>\n",
              "    </tr>\n",
              "  </tbody>\n",
              "</table>\n",
              "</div>\n",
              "    <div class=\"colab-df-buttons\">\n",
              "\n",
              "  <div class=\"colab-df-container\">\n",
              "    <button class=\"colab-df-convert\" onclick=\"convertToInteractive('df-ec23bde0-e814-47e1-aac8-a6a00c935202')\"\n",
              "            title=\"Convert this dataframe to an interactive table.\"\n",
              "            style=\"display:none;\">\n",
              "\n",
              "  <svg xmlns=\"http://www.w3.org/2000/svg\" height=\"24px\" viewBox=\"0 -960 960 960\">\n",
              "    <path d=\"M120-120v-720h720v720H120Zm60-500h600v-160H180v160Zm220 220h160v-160H400v160Zm0 220h160v-160H400v160ZM180-400h160v-160H180v160Zm440 0h160v-160H620v160ZM180-180h160v-160H180v160Zm440 0h160v-160H620v160Z\"/>\n",
              "  </svg>\n",
              "    </button>\n",
              "\n",
              "  <style>\n",
              "    .colab-df-container {\n",
              "      display:flex;\n",
              "      gap: 12px;\n",
              "    }\n",
              "\n",
              "    .colab-df-convert {\n",
              "      background-color: #E8F0FE;\n",
              "      border: none;\n",
              "      border-radius: 50%;\n",
              "      cursor: pointer;\n",
              "      display: none;\n",
              "      fill: #1967D2;\n",
              "      height: 32px;\n",
              "      padding: 0 0 0 0;\n",
              "      width: 32px;\n",
              "    }\n",
              "\n",
              "    .colab-df-convert:hover {\n",
              "      background-color: #E2EBFA;\n",
              "      box-shadow: 0px 1px 2px rgba(60, 64, 67, 0.3), 0px 1px 3px 1px rgba(60, 64, 67, 0.15);\n",
              "      fill: #174EA6;\n",
              "    }\n",
              "\n",
              "    .colab-df-buttons div {\n",
              "      margin-bottom: 4px;\n",
              "    }\n",
              "\n",
              "    [theme=dark] .colab-df-convert {\n",
              "      background-color: #3B4455;\n",
              "      fill: #D2E3FC;\n",
              "    }\n",
              "\n",
              "    [theme=dark] .colab-df-convert:hover {\n",
              "      background-color: #434B5C;\n",
              "      box-shadow: 0px 1px 3px 1px rgba(0, 0, 0, 0.15);\n",
              "      filter: drop-shadow(0px 1px 2px rgba(0, 0, 0, 0.3));\n",
              "      fill: #FFFFFF;\n",
              "    }\n",
              "  </style>\n",
              "\n",
              "    <script>\n",
              "      const buttonEl =\n",
              "        document.querySelector('#df-ec23bde0-e814-47e1-aac8-a6a00c935202 button.colab-df-convert');\n",
              "      buttonEl.style.display =\n",
              "        google.colab.kernel.accessAllowed ? 'block' : 'none';\n",
              "\n",
              "      async function convertToInteractive(key) {\n",
              "        const element = document.querySelector('#df-ec23bde0-e814-47e1-aac8-a6a00c935202');\n",
              "        const dataTable =\n",
              "          await google.colab.kernel.invokeFunction('convertToInteractive',\n",
              "                                                    [key], {});\n",
              "        if (!dataTable) return;\n",
              "\n",
              "        const docLinkHtml = 'Like what you see? Visit the ' +\n",
              "          '<a target=\"_blank\" href=https://colab.research.google.com/notebooks/data_table.ipynb>data table notebook</a>'\n",
              "          + ' to learn more about interactive tables.';\n",
              "        element.innerHTML = '';\n",
              "        dataTable['output_type'] = 'display_data';\n",
              "        await google.colab.output.renderOutput(dataTable, element);\n",
              "        const docLink = document.createElement('div');\n",
              "        docLink.innerHTML = docLinkHtml;\n",
              "        element.appendChild(docLink);\n",
              "      }\n",
              "    </script>\n",
              "  </div>\n",
              "\n",
              "\n",
              "    <div id=\"df-27ceecec-6cf2-4c6b-9f1c-35b7d04e0b28\">\n",
              "      <button class=\"colab-df-quickchart\" onclick=\"quickchart('df-27ceecec-6cf2-4c6b-9f1c-35b7d04e0b28')\"\n",
              "                title=\"Suggest charts\"\n",
              "                style=\"display:none;\">\n",
              "\n",
              "<svg xmlns=\"http://www.w3.org/2000/svg\" height=\"24px\"viewBox=\"0 0 24 24\"\n",
              "     width=\"24px\">\n",
              "    <g>\n",
              "        <path d=\"M19 3H5c-1.1 0-2 .9-2 2v14c0 1.1.9 2 2 2h14c1.1 0 2-.9 2-2V5c0-1.1-.9-2-2-2zM9 17H7v-7h2v7zm4 0h-2V7h2v10zm4 0h-2v-4h2v4z\"/>\n",
              "    </g>\n",
              "</svg>\n",
              "      </button>\n",
              "\n",
              "<style>\n",
              "  .colab-df-quickchart {\n",
              "      --bg-color: #E8F0FE;\n",
              "      --fill-color: #1967D2;\n",
              "      --hover-bg-color: #E2EBFA;\n",
              "      --hover-fill-color: #174EA6;\n",
              "      --disabled-fill-color: #AAA;\n",
              "      --disabled-bg-color: #DDD;\n",
              "  }\n",
              "\n",
              "  [theme=dark] .colab-df-quickchart {\n",
              "      --bg-color: #3B4455;\n",
              "      --fill-color: #D2E3FC;\n",
              "      --hover-bg-color: #434B5C;\n",
              "      --hover-fill-color: #FFFFFF;\n",
              "      --disabled-bg-color: #3B4455;\n",
              "      --disabled-fill-color: #666;\n",
              "  }\n",
              "\n",
              "  .colab-df-quickchart {\n",
              "    background-color: var(--bg-color);\n",
              "    border: none;\n",
              "    border-radius: 50%;\n",
              "    cursor: pointer;\n",
              "    display: none;\n",
              "    fill: var(--fill-color);\n",
              "    height: 32px;\n",
              "    padding: 0;\n",
              "    width: 32px;\n",
              "  }\n",
              "\n",
              "  .colab-df-quickchart:hover {\n",
              "    background-color: var(--hover-bg-color);\n",
              "    box-shadow: 0 1px 2px rgba(60, 64, 67, 0.3), 0 1px 3px 1px rgba(60, 64, 67, 0.15);\n",
              "    fill: var(--button-hover-fill-color);\n",
              "  }\n",
              "\n",
              "  .colab-df-quickchart-complete:disabled,\n",
              "  .colab-df-quickchart-complete:disabled:hover {\n",
              "    background-color: var(--disabled-bg-color);\n",
              "    fill: var(--disabled-fill-color);\n",
              "    box-shadow: none;\n",
              "  }\n",
              "\n",
              "  .colab-df-spinner {\n",
              "    border: 2px solid var(--fill-color);\n",
              "    border-color: transparent;\n",
              "    border-bottom-color: var(--fill-color);\n",
              "    animation:\n",
              "      spin 1s steps(1) infinite;\n",
              "  }\n",
              "\n",
              "  @keyframes spin {\n",
              "    0% {\n",
              "      border-color: transparent;\n",
              "      border-bottom-color: var(--fill-color);\n",
              "      border-left-color: var(--fill-color);\n",
              "    }\n",
              "    20% {\n",
              "      border-color: transparent;\n",
              "      border-left-color: var(--fill-color);\n",
              "      border-top-color: var(--fill-color);\n",
              "    }\n",
              "    30% {\n",
              "      border-color: transparent;\n",
              "      border-left-color: var(--fill-color);\n",
              "      border-top-color: var(--fill-color);\n",
              "      border-right-color: var(--fill-color);\n",
              "    }\n",
              "    40% {\n",
              "      border-color: transparent;\n",
              "      border-right-color: var(--fill-color);\n",
              "      border-top-color: var(--fill-color);\n",
              "    }\n",
              "    60% {\n",
              "      border-color: transparent;\n",
              "      border-right-color: var(--fill-color);\n",
              "    }\n",
              "    80% {\n",
              "      border-color: transparent;\n",
              "      border-right-color: var(--fill-color);\n",
              "      border-bottom-color: var(--fill-color);\n",
              "    }\n",
              "    90% {\n",
              "      border-color: transparent;\n",
              "      border-bottom-color: var(--fill-color);\n",
              "    }\n",
              "  }\n",
              "</style>\n",
              "\n",
              "      <script>\n",
              "        async function quickchart(key) {\n",
              "          const quickchartButtonEl =\n",
              "            document.querySelector('#' + key + ' button');\n",
              "          quickchartButtonEl.disabled = true;  // To prevent multiple clicks.\n",
              "          quickchartButtonEl.classList.add('colab-df-spinner');\n",
              "          try {\n",
              "            const charts = await google.colab.kernel.invokeFunction(\n",
              "                'suggestCharts', [key], {});\n",
              "          } catch (error) {\n",
              "            console.error('Error during call to suggestCharts:', error);\n",
              "          }\n",
              "          quickchartButtonEl.classList.remove('colab-df-spinner');\n",
              "          quickchartButtonEl.classList.add('colab-df-quickchart-complete');\n",
              "        }\n",
              "        (() => {\n",
              "          let quickchartButtonEl =\n",
              "            document.querySelector('#df-27ceecec-6cf2-4c6b-9f1c-35b7d04e0b28 button');\n",
              "          quickchartButtonEl.style.display =\n",
              "            google.colab.kernel.accessAllowed ? 'block' : 'none';\n",
              "        })();\n",
              "      </script>\n",
              "    </div>\n",
              "\n",
              "    </div>\n",
              "  </div>\n"
            ],
            "application/vnd.google.colaboratory.intrinsic+json": {
              "type": "dataframe",
              "variable_name": "bd_empleados_pandas",
              "summary": "{\n  \"name\": \"bd_empleados_pandas\",\n  \"rows\": 350,\n  \"fields\": [\n    {\n      \"column\": \"ID\",\n      \"properties\": {\n        \"dtype\": \"number\",\n        \"std\": 101.18053172424031,\n        \"min\": 1.0,\n        \"max\": 350.0,\n        \"num_unique_values\": 350,\n        \"samples\": [\n          158.0,\n          342.0,\n          316.0\n        ],\n        \"semantic_type\": \"\",\n        \"description\": \"\"\n      }\n    },\n    {\n      \"column\": \"Salario_Mensual\",\n      \"properties\": {\n        \"dtype\": \"number\",\n        \"std\": 1.0112629750704123,\n        \"min\": 0.81,\n        \"max\": 6.2,\n        \"num_unique_values\": 227,\n        \"samples\": [\n          4.25,\n          2.43,\n          3.24\n        ],\n        \"semantic_type\": \"\",\n        \"description\": \"\"\n      }\n    },\n    {\n      \"column\": \"Horas_Trabajadas_Semana\",\n      \"properties\": {\n        \"dtype\": \"number\",\n        \"std\": 5.033652197089182,\n        \"min\": 27.1,\n        \"max\": 53.3,\n        \"num_unique_values\": 171,\n        \"samples\": [\n          37.3,\n          47.1,\n          35.0\n        ],\n        \"semantic_type\": \"\",\n        \"description\": \"\"\n      }\n    },\n    {\n      \"column\": \"Numero_Proyectos\",\n      \"properties\": {\n        \"dtype\": \"number\",\n        \"std\": 2.772924764188708,\n        \"min\": 0.0,\n        \"max\": 8.0,\n        \"num_unique_values\": 9,\n        \"samples\": [\n          1.0,\n          5.0,\n          4.0\n        ],\n        \"semantic_type\": \"\",\n        \"description\": \"\"\n      }\n    },\n    {\n      \"column\": \"Salario_Mensual_Interval\",\n      \"properties\": {\n        \"dtype\": \"category\",\n        \"num_unique_values\": 6,\n        \"samples\": [\n          \"[2.5,3.5)\",\n          \"[0,1.5)\",\n          \"[5.5,7]\"\n        ],\n        \"semantic_type\": \"\",\n        \"description\": \"\"\n      }\n    }\n  ]\n}"
            }
          },
          "metadata": {},
          "execution_count": 56
        }
      ]
    },
    {
      "cell_type": "code",
      "metadata": {
        "colab": {
          "base_uri": "https://localhost:8080/",
          "height": 272
        },
        "id": "e159063f",
        "outputId": "b2c88862-6a07-495b-8da9-097b232e80eb"
      },
      "source": [
        "import pandas as pd\n",
        "\n",
        "bins = [0, 1.5, 2.5, 3.5, 4.5, 5.5, float('inf')]\n",
        "labels = ['[0-1.5)', '[1.5-2.5)', '[2.5-3.5)', '[3.5-4.5)', '[4.5-5.5)', '[5.5-inf)']\n",
        "\n",
        "# Create intervals and count frequencies\n",
        "bd_empleados_pandas['Salario_Mensual_Interval_pd'] = pd.cut(bd_empleados_pandas['Salario_Mensual'], bins=bins, labels=labels, right=False, include_lowest=True)\n",
        "\n",
        "salario_freq_pd = bd_empleados_pandas['Salario_Mensual_Interval_pd'].value_counts().reset_index()\n",
        "salario_freq_pd.columns = ['Interval', 'Frequency']\n",
        "salario_freq_pd = salario_freq_pd.sort_values('Interval')\n",
        "\n",
        "# Calculate relative frequency and percentage\n",
        "salario_freq_pd['Relative Frequency'] = salario_freq_pd['Frequency'] / salario_freq_pd['Frequency'].sum()\n",
        "salario_freq_pd['Percentage'] = salario_freq_pd['Relative Frequency'] * 100\n",
        "\n",
        "# Calculate cumulative frequencies\n",
        "salario_freq_pd['Cumulative Frequency'] = salario_freq_pd['Frequency'].cumsum()\n",
        "salario_freq_pd['Cumulative Relative Frequency'] = salario_freq_pd['Relative Frequency'].cumsum()\n",
        "salario_freq_pd['Cumulative Percentage'] = salario_freq_pd['Percentage'].cumsum()\n",
        "\n",
        "\n",
        "display(salario_freq_pd)"
      ],
      "execution_count": 57,
      "outputs": [
        {
          "output_type": "display_data",
          "data": {
            "text/plain": [
              "    Interval  Frequency  Relative Frequency  Percentage  Cumulative Frequency  \\\n",
              "4    [0-1.5)          9            0.025714    2.571429                     9   \n",
              "2  [1.5-2.5)         49            0.140000   14.000000                    58   \n",
              "0  [2.5-3.5)        120            0.342857   34.285714                   178   \n",
              "1  [3.5-4.5)        117            0.334286   33.428571                   295   \n",
              "3  [4.5-5.5)         48            0.137143   13.714286                   343   \n",
              "5  [5.5-inf)          7            0.020000    2.000000                   350   \n",
              "\n",
              "   Cumulative Relative Frequency  Cumulative Percentage  \n",
              "4                       0.025714               2.571429  \n",
              "2                       0.165714              16.571429  \n",
              "0                       0.508571              50.857143  \n",
              "1                       0.842857              84.285714  \n",
              "3                       0.980000              98.000000  \n",
              "5                       1.000000             100.000000  "
            ],
            "text/html": [
              "\n",
              "  <div id=\"df-de449340-3475-40ec-ab4d-21ef29601f46\" class=\"colab-df-container\">\n",
              "    <div>\n",
              "<style scoped>\n",
              "    .dataframe tbody tr th:only-of-type {\n",
              "        vertical-align: middle;\n",
              "    }\n",
              "\n",
              "    .dataframe tbody tr th {\n",
              "        vertical-align: top;\n",
              "    }\n",
              "\n",
              "    .dataframe thead th {\n",
              "        text-align: right;\n",
              "    }\n",
              "</style>\n",
              "<table border=\"1\" class=\"dataframe\">\n",
              "  <thead>\n",
              "    <tr style=\"text-align: right;\">\n",
              "      <th></th>\n",
              "      <th>Interval</th>\n",
              "      <th>Frequency</th>\n",
              "      <th>Relative Frequency</th>\n",
              "      <th>Percentage</th>\n",
              "      <th>Cumulative Frequency</th>\n",
              "      <th>Cumulative Relative Frequency</th>\n",
              "      <th>Cumulative Percentage</th>\n",
              "    </tr>\n",
              "  </thead>\n",
              "  <tbody>\n",
              "    <tr>\n",
              "      <th>4</th>\n",
              "      <td>[0-1.5)</td>\n",
              "      <td>9</td>\n",
              "      <td>0.025714</td>\n",
              "      <td>2.571429</td>\n",
              "      <td>9</td>\n",
              "      <td>0.025714</td>\n",
              "      <td>2.571429</td>\n",
              "    </tr>\n",
              "    <tr>\n",
              "      <th>2</th>\n",
              "      <td>[1.5-2.5)</td>\n",
              "      <td>49</td>\n",
              "      <td>0.140000</td>\n",
              "      <td>14.000000</td>\n",
              "      <td>58</td>\n",
              "      <td>0.165714</td>\n",
              "      <td>16.571429</td>\n",
              "    </tr>\n",
              "    <tr>\n",
              "      <th>0</th>\n",
              "      <td>[2.5-3.5)</td>\n",
              "      <td>120</td>\n",
              "      <td>0.342857</td>\n",
              "      <td>34.285714</td>\n",
              "      <td>178</td>\n",
              "      <td>0.508571</td>\n",
              "      <td>50.857143</td>\n",
              "    </tr>\n",
              "    <tr>\n",
              "      <th>1</th>\n",
              "      <td>[3.5-4.5)</td>\n",
              "      <td>117</td>\n",
              "      <td>0.334286</td>\n",
              "      <td>33.428571</td>\n",
              "      <td>295</td>\n",
              "      <td>0.842857</td>\n",
              "      <td>84.285714</td>\n",
              "    </tr>\n",
              "    <tr>\n",
              "      <th>3</th>\n",
              "      <td>[4.5-5.5)</td>\n",
              "      <td>48</td>\n",
              "      <td>0.137143</td>\n",
              "      <td>13.714286</td>\n",
              "      <td>343</td>\n",
              "      <td>0.980000</td>\n",
              "      <td>98.000000</td>\n",
              "    </tr>\n",
              "    <tr>\n",
              "      <th>5</th>\n",
              "      <td>[5.5-inf)</td>\n",
              "      <td>7</td>\n",
              "      <td>0.020000</td>\n",
              "      <td>2.000000</td>\n",
              "      <td>350</td>\n",
              "      <td>1.000000</td>\n",
              "      <td>100.000000</td>\n",
              "    </tr>\n",
              "  </tbody>\n",
              "</table>\n",
              "</div>\n",
              "    <div class=\"colab-df-buttons\">\n",
              "\n",
              "  <div class=\"colab-df-container\">\n",
              "    <button class=\"colab-df-convert\" onclick=\"convertToInteractive('df-de449340-3475-40ec-ab4d-21ef29601f46')\"\n",
              "            title=\"Convert this dataframe to an interactive table.\"\n",
              "            style=\"display:none;\">\n",
              "\n",
              "  <svg xmlns=\"http://www.w3.org/2000/svg\" height=\"24px\" viewBox=\"0 -960 960 960\">\n",
              "    <path d=\"M120-120v-720h720v720H120Zm60-500h600v-160H180v160Zm220 220h160v-160H400v160Zm0 220h160v-160H400v160ZM180-400h160v-160H180v160Zm440 0h160v-160H620v160ZM180-180h160v-160H180v160Zm440 0h160v-160H620v160Z\"/>\n",
              "  </svg>\n",
              "    </button>\n",
              "\n",
              "  <style>\n",
              "    .colab-df-container {\n",
              "      display:flex;\n",
              "      gap: 12px;\n",
              "    }\n",
              "\n",
              "    .colab-df-convert {\n",
              "      background-color: #E8F0FE;\n",
              "      border: none;\n",
              "      border-radius: 50%;\n",
              "      cursor: pointer;\n",
              "      display: none;\n",
              "      fill: #1967D2;\n",
              "      height: 32px;\n",
              "      padding: 0 0 0 0;\n",
              "      width: 32px;\n",
              "    }\n",
              "\n",
              "    .colab-df-convert:hover {\n",
              "      background-color: #E2EBFA;\n",
              "      box-shadow: 0px 1px 2px rgba(60, 64, 67, 0.3), 0px 1px 3px 1px rgba(60, 64, 67, 0.15);\n",
              "      fill: #174EA6;\n",
              "    }\n",
              "\n",
              "    .colab-df-buttons div {\n",
              "      margin-bottom: 4px;\n",
              "    }\n",
              "\n",
              "    [theme=dark] .colab-df-convert {\n",
              "      background-color: #3B4455;\n",
              "      fill: #D2E3FC;\n",
              "    }\n",
              "\n",
              "    [theme=dark] .colab-df-convert:hover {\n",
              "      background-color: #434B5C;\n",
              "      box-shadow: 0px 1px 3px 1px rgba(0, 0, 0, 0.15);\n",
              "      filter: drop-shadow(0px 1px 2px rgba(0, 0, 0, 0.3));\n",
              "      fill: #FFFFFF;\n",
              "    }\n",
              "  </style>\n",
              "\n",
              "    <script>\n",
              "      const buttonEl =\n",
              "        document.querySelector('#df-de449340-3475-40ec-ab4d-21ef29601f46 button.colab-df-convert');\n",
              "      buttonEl.style.display =\n",
              "        google.colab.kernel.accessAllowed ? 'block' : 'none';\n",
              "\n",
              "      async function convertToInteractive(key) {\n",
              "        const element = document.querySelector('#df-de449340-3475-40ec-ab4d-21ef29601f46');\n",
              "        const dataTable =\n",
              "          await google.colab.kernel.invokeFunction('convertToInteractive',\n",
              "                                                    [key], {});\n",
              "        if (!dataTable) return;\n",
              "\n",
              "        const docLinkHtml = 'Like what you see? Visit the ' +\n",
              "          '<a target=\"_blank\" href=https://colab.research.google.com/notebooks/data_table.ipynb>data table notebook</a>'\n",
              "          + ' to learn more about interactive tables.';\n",
              "        element.innerHTML = '';\n",
              "        dataTable['output_type'] = 'display_data';\n",
              "        await google.colab.output.renderOutput(dataTable, element);\n",
              "        const docLink = document.createElement('div');\n",
              "        docLink.innerHTML = docLinkHtml;\n",
              "        element.appendChild(docLink);\n",
              "      }\n",
              "    </script>\n",
              "  </div>\n",
              "\n",
              "\n",
              "    <div id=\"df-1d5356bf-9c28-4064-9c05-a8581871b00d\">\n",
              "      <button class=\"colab-df-quickchart\" onclick=\"quickchart('df-1d5356bf-9c28-4064-9c05-a8581871b00d')\"\n",
              "                title=\"Suggest charts\"\n",
              "                style=\"display:none;\">\n",
              "\n",
              "<svg xmlns=\"http://www.w3.org/2000/svg\" height=\"24px\"viewBox=\"0 0 24 24\"\n",
              "     width=\"24px\">\n",
              "    <g>\n",
              "        <path d=\"M19 3H5c-1.1 0-2 .9-2 2v14c0 1.1.9 2 2 2h14c1.1 0 2-.9 2-2V5c0-1.1-.9-2-2-2zM9 17H7v-7h2v7zm4 0h-2V7h2v10zm4 0h-2v-4h2v4z\"/>\n",
              "    </g>\n",
              "</svg>\n",
              "      </button>\n",
              "\n",
              "<style>\n",
              "  .colab-df-quickchart {\n",
              "      --bg-color: #E8F0FE;\n",
              "      --fill-color: #1967D2;\n",
              "      --hover-bg-color: #E2EBFA;\n",
              "      --hover-fill-color: #174EA6;\n",
              "      --disabled-fill-color: #AAA;\n",
              "      --disabled-bg-color: #DDD;\n",
              "  }\n",
              "\n",
              "  [theme=dark] .colab-df-quickchart {\n",
              "      --bg-color: #3B4455;\n",
              "      --fill-color: #D2E3FC;\n",
              "      --hover-bg-color: #434B5C;\n",
              "      --hover-fill-color: #FFFFFF;\n",
              "      --disabled-bg-color: #3B4455;\n",
              "      --disabled-fill-color: #666;\n",
              "  }\n",
              "\n",
              "  .colab-df-quickchart {\n",
              "    background-color: var(--bg-color);\n",
              "    border: none;\n",
              "    border-radius: 50%;\n",
              "    cursor: pointer;\n",
              "    display: none;\n",
              "    fill: var(--fill-color);\n",
              "    height: 32px;\n",
              "    padding: 0;\n",
              "    width: 32px;\n",
              "  }\n",
              "\n",
              "  .colab-df-quickchart:hover {\n",
              "    background-color: var(--hover-bg-color);\n",
              "    box-shadow: 0 1px 2px rgba(60, 64, 67, 0.3), 0 1px 3px 1px rgba(60, 64, 67, 0.15);\n",
              "    fill: var(--button-hover-fill-color);\n",
              "  }\n",
              "\n",
              "  .colab-df-quickchart-complete:disabled,\n",
              "  .colab-df-quickchart-complete:disabled:hover {\n",
              "    background-color: var(--disabled-bg-color);\n",
              "    fill: var(--disabled-fill-color);\n",
              "    box-shadow: none;\n",
              "  }\n",
              "\n",
              "  .colab-df-spinner {\n",
              "    border: 2px solid var(--fill-color);\n",
              "    border-color: transparent;\n",
              "    border-bottom-color: var(--fill-color);\n",
              "    animation:\n",
              "      spin 1s steps(1) infinite;\n",
              "  }\n",
              "\n",
              "  @keyframes spin {\n",
              "    0% {\n",
              "      border-color: transparent;\n",
              "      border-bottom-color: var(--fill-color);\n",
              "      border-left-color: var(--fill-color);\n",
              "    }\n",
              "    20% {\n",
              "      border-color: transparent;\n",
              "      border-left-color: var(--fill-color);\n",
              "      border-top-color: var(--fill-color);\n",
              "    }\n",
              "    30% {\n",
              "      border-color: transparent;\n",
              "      border-left-color: var(--fill-color);\n",
              "      border-top-color: var(--fill-color);\n",
              "      border-right-color: var(--fill-color);\n",
              "    }\n",
              "    40% {\n",
              "      border-color: transparent;\n",
              "      border-right-color: var(--fill-color);\n",
              "      border-top-color: var(--fill-color);\n",
              "    }\n",
              "    60% {\n",
              "      border-color: transparent;\n",
              "      border-right-color: var(--fill-color);\n",
              "    }\n",
              "    80% {\n",
              "      border-color: transparent;\n",
              "      border-right-color: var(--fill-color);\n",
              "      border-bottom-color: var(--fill-color);\n",
              "    }\n",
              "    90% {\n",
              "      border-color: transparent;\n",
              "      border-bottom-color: var(--fill-color);\n",
              "    }\n",
              "  }\n",
              "</style>\n",
              "\n",
              "      <script>\n",
              "        async function quickchart(key) {\n",
              "          const quickchartButtonEl =\n",
              "            document.querySelector('#' + key + ' button');\n",
              "          quickchartButtonEl.disabled = true;  // To prevent multiple clicks.\n",
              "          quickchartButtonEl.classList.add('colab-df-spinner');\n",
              "          try {\n",
              "            const charts = await google.colab.kernel.invokeFunction(\n",
              "                'suggestCharts', [key], {});\n",
              "          } catch (error) {\n",
              "            console.error('Error during call to suggestCharts:', error);\n",
              "          }\n",
              "          quickchartButtonEl.classList.remove('colab-df-spinner');\n",
              "          quickchartButtonEl.classList.add('colab-df-quickchart-complete');\n",
              "        }\n",
              "        (() => {\n",
              "          let quickchartButtonEl =\n",
              "            document.querySelector('#df-1d5356bf-9c28-4064-9c05-a8581871b00d button');\n",
              "          quickchartButtonEl.style.display =\n",
              "            google.colab.kernel.accessAllowed ? 'block' : 'none';\n",
              "        })();\n",
              "      </script>\n",
              "    </div>\n",
              "\n",
              "  <div id=\"id_b17c5b41-03ae-40b4-8f28-1ca5ec3e5f3c\">\n",
              "    <style>\n",
              "      .colab-df-generate {\n",
              "        background-color: #E8F0FE;\n",
              "        border: none;\n",
              "        border-radius: 50%;\n",
              "        cursor: pointer;\n",
              "        display: none;\n",
              "        fill: #1967D2;\n",
              "        height: 32px;\n",
              "        padding: 0 0 0 0;\n",
              "        width: 32px;\n",
              "      }\n",
              "\n",
              "      .colab-df-generate:hover {\n",
              "        background-color: #E2EBFA;\n",
              "        box-shadow: 0px 1px 2px rgba(60, 64, 67, 0.3), 0px 1px 3px 1px rgba(60, 64, 67, 0.15);\n",
              "        fill: #174EA6;\n",
              "      }\n",
              "\n",
              "      [theme=dark] .colab-df-generate {\n",
              "        background-color: #3B4455;\n",
              "        fill: #D2E3FC;\n",
              "      }\n",
              "\n",
              "      [theme=dark] .colab-df-generate:hover {\n",
              "        background-color: #434B5C;\n",
              "        box-shadow: 0px 1px 3px 1px rgba(0, 0, 0, 0.15);\n",
              "        filter: drop-shadow(0px 1px 2px rgba(0, 0, 0, 0.3));\n",
              "        fill: #FFFFFF;\n",
              "      }\n",
              "    </style>\n",
              "    <button class=\"colab-df-generate\" onclick=\"generateWithVariable('salario_freq_pd')\"\n",
              "            title=\"Generate code using this dataframe.\"\n",
              "            style=\"display:none;\">\n",
              "\n",
              "  <svg xmlns=\"http://www.w3.org/2000/svg\" height=\"24px\"viewBox=\"0 0 24 24\"\n",
              "       width=\"24px\">\n",
              "    <path d=\"M7,19H8.4L18.45,9,17,7.55,7,17.6ZM5,21V16.75L18.45,3.32a2,2,0,0,1,2.83,0l1.4,1.43a1.91,1.91,0,0,1,.58,1.4,1.91,1.91,0,0,1-.58,1.4L9.25,21ZM18.45,9,17,7.55Zm-12,3A5.31,5.31,0,0,0,4.9,8.1,5.31,5.31,0,0,0,1,6.5,5.31,5.31,0,0,0,4.9,4.9,5.31,5.31,0,0,0,6.5,1,5.31,5.31,0,0,0,8.1,4.9,5.31,5.31,0,0,0,12,6.5,5.46,5.46,0,0,0,6.5,12Z\"/>\n",
              "  </svg>\n",
              "    </button>\n",
              "    <script>\n",
              "      (() => {\n",
              "      const buttonEl =\n",
              "        document.querySelector('#id_b17c5b41-03ae-40b4-8f28-1ca5ec3e5f3c button.colab-df-generate');\n",
              "      buttonEl.style.display =\n",
              "        google.colab.kernel.accessAllowed ? 'block' : 'none';\n",
              "\n",
              "      buttonEl.onclick = () => {\n",
              "        google.colab.notebook.generateWithVariable('salario_freq_pd');\n",
              "      }\n",
              "      })();\n",
              "    </script>\n",
              "  </div>\n",
              "\n",
              "    </div>\n",
              "  </div>\n"
            ],
            "application/vnd.google.colaboratory.intrinsic+json": {
              "type": "dataframe",
              "variable_name": "salario_freq_pd",
              "summary": "{\n  \"name\": \"salario_freq_pd\",\n  \"rows\": 6,\n  \"fields\": [\n    {\n      \"column\": \"Interval\",\n      \"properties\": {\n        \"dtype\": \"category\",\n        \"num_unique_values\": 6,\n        \"samples\": [\n          \"[0-1.5)\",\n          \"[1.5-2.5)\",\n          \"[5.5-inf)\"\n        ],\n        \"semantic_type\": \"\",\n        \"description\": \"\"\n      }\n    },\n    {\n      \"column\": \"Frequency\",\n      \"properties\": {\n        \"dtype\": \"number\",\n        \"std\": 50,\n        \"min\": 7,\n        \"max\": 120,\n        \"num_unique_values\": 6,\n        \"samples\": [\n          9,\n          49,\n          7\n        ],\n        \"semantic_type\": \"\",\n        \"description\": \"\"\n      }\n    },\n    {\n      \"column\": \"Relative Frequency\",\n      \"properties\": {\n        \"dtype\": \"number\",\n        \"std\": 0.14289904147481805,\n        \"min\": 0.02,\n        \"max\": 0.34285714285714286,\n        \"num_unique_values\": 6,\n        \"samples\": [\n          0.025714285714285714,\n          0.14,\n          0.02\n        ],\n        \"semantic_type\": \"\",\n        \"description\": \"\"\n      }\n    },\n    {\n      \"column\": \"Percentage\",\n      \"properties\": {\n        \"dtype\": \"number\",\n        \"std\": 14.289904147481804,\n        \"min\": 2.0,\n        \"max\": 34.285714285714285,\n        \"num_unique_values\": 6,\n        \"samples\": [\n          2.571428571428571,\n          14.000000000000002,\n          2.0\n        ],\n        \"semantic_type\": \"\",\n        \"description\": \"\"\n      }\n    },\n    {\n      \"column\": \"Cumulative Frequency\",\n      \"properties\": {\n        \"dtype\": \"number\",\n        \"std\": 147,\n        \"min\": 9,\n        \"max\": 350,\n        \"num_unique_values\": 6,\n        \"samples\": [\n          9,\n          58,\n          350\n        ],\n        \"semantic_type\": \"\",\n        \"description\": \"\"\n      }\n    },\n    {\n      \"column\": \"Cumulative Relative Frequency\",\n      \"properties\": {\n        \"dtype\": \"number\",\n        \"std\": 0.4217001546219343,\n        \"min\": 0.025714285714285714,\n        \"max\": 1.0,\n        \"num_unique_values\": 6,\n        \"samples\": [\n          0.025714285714285714,\n          0.16571428571428573,\n          1.0\n        ],\n        \"semantic_type\": \"\",\n        \"description\": \"\"\n      }\n    },\n    {\n      \"column\": \"Cumulative Percentage\",\n      \"properties\": {\n        \"dtype\": \"number\",\n        \"std\": 42.170015462193426,\n        \"min\": 2.571428571428571,\n        \"max\": 100.0,\n        \"num_unique_values\": 6,\n        \"samples\": [\n          2.571428571428571,\n          16.571428571428573,\n          100.0\n        ],\n        \"semantic_type\": \"\",\n        \"description\": \"\"\n      }\n    }\n  ]\n}"
            }
          },
          "metadata": {}
        }
      ]
    },
    {
      "cell_type": "markdown",
      "metadata": {
        "id": "63e81258"
      },
      "source": [
        "\n",
        "## m) Realiza gráficos adecuados para la variable Salario_Mensual.\n",
        "\n",
        "\n",
        "\n",
        "\n"
      ]
    },
    {
      "cell_type": "code",
      "source": [
        "import matplotlib.pyplot as plt\n",
        "import seaborn as sns\n",
        "import numpy as np\n",
        "\n",
        "# Create a histogram\n",
        "plt.figure(figsize=(10, 6))\n",
        "sns.barplot(x='Interval', y='Frequency', data=salario_freq_pd, color='goldenrod')\n",
        "plt.xlabel(\"Salario Mensual [K€]]\")\n",
        "plt.ylabel(\"Frecuencia Absoluta\")\n",
        "plt.title(\"Histograma de Salario Mensual\")\n",
        "plt.xticks(rotation=45, ha='right')\n",
        "plt.tight_layout()\n",
        "plt.show()\n"
      ],
      "metadata": {
        "colab": {
          "base_uri": "https://localhost:8080/",
          "height": 464
        },
        "id": "_OoLUMu7zDj7",
        "outputId": "a902ba3b-40c0-4580-e193-aac7f914d11a"
      },
      "execution_count": 63,
      "outputs": [
        {
          "output_type": "display_data",
          "data": {
            "text/plain": [
              "<Figure size 1000x600 with 1 Axes>"
            ],
            "image/png": "[encoded data removed]"
          },
          "metadata": {}
        }
      ]
    },
    {
      "cell_type": "code",
      "source": [
        "import matplotlib.pyplot as plt\n",
        "import seaborn as sns\n",
        "\n",
        "# Create a pie chart\n",
        "plt.figure(figsize=(10, 10)) # Increase figure size\n",
        "plt.pie(salario_freq_pd['Percentage'], labels=salario_freq_pd['Interval'], autopct='%1.1f%%', startangle=90, colors=sns.color_palette('pastel'), pctdistance=0.85) # Adjust pctdistance\n",
        "plt.title('Distribución Porcentual del Salario Mensual')\n",
        "plt.axis('equal')  # Equal aspect ratio ensures that pie is drawn as a circle.\n",
        "plt.show()"
      ],
      "metadata": {
        "colab": {
          "base_uri": "https://localhost:8080/",
          "height": 764
        },
        "id": "aShgYjeozZCy",
        "outputId": "b9613713-a1a1-4ba8-ac2d-edb19a7fb6c8"
      },
      "execution_count": 65,
      "outputs": [
        {
          "output_type": "display_data",
          "data": {
            "text/plain": [
              "<Figure size 1000x1000 with 1 Axes>"
            ],
            "image/png": "[encoded data removed]"
          },
          "metadata": {}
        }
      ]
    },
    {
      "cell_type": "code",
      "source": [],
      "metadata": {
        "id": "BLFEcyXt0OgF"
      },
      "execution_count": null,
      "outputs": []
    },
    {
      "cell_type": "code",
      "metadata": {
        "colab": {
          "base_uri": "https://localhost:8080/",
          "height": 314
        },
        "id": "20681c23",
        "outputId": "150fad72-2122-4304-c9cb-2216a4695584"
      },
      "source": [
        "import matplotlib.pyplot as plt\n",
        "import seaborn as sns\n",
        "\n",
        "# Create a boxplot for Salario_Mensual\n",
        "plt.figure(figsize=(10, 3))\n",
        "sns.boxplot(x=bd_empleados_pandas['Salario_Mensual'], color='goldenrod')\n",
        "plt.xlabel(\"Salario Mensual (miles de Euros)\")\n",
        "plt.title(\"Boxplot de Salario Mensual\")\n",
        "plt.show()"
      ],
      "execution_count": 69,
      "outputs": [
        {
          "output_type": "display_data",
          "data": {
            "text/plain": [
              "<Figure size 1000x300 with 1 Axes>"
            ],
            "image/png": "[encoded data removed]"
          },
          "metadata": {}
        }
      ]
    }
  ]
}